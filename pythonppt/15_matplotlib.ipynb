{
 "cells": [
  {
   "cell_type": "markdown",
   "metadata": {},
   "source": [
    "# Matplotlib 基础\n",
    "\n",
    "数据可视化非常重要，因为错误或不充分的数据表示方法可能会毁掉原本很出色的数据分析工作。\n",
    "\n",
    "[matplotlib](https://matplotlib.org) 库是专门用于开发2D图表（包括3D图表）的，突出优点：\n",
    "\n",
    "-   使用起来极为简单\n",
    "-   以渐进、交互式方式实现数据可视化\n",
    "-   表达式和文本使用LaTeX排版\n",
    "-   对图像元素控制力强\n",
    "-   可输出PNG、PDF、SVG和EPS等多种格式"
   ]
  },
  {
   "cell_type": "markdown",
   "metadata": {},
   "source": [
    "## 安装\n",
    "```sh\n",
    "conda install matplotlib\n",
    "```\n",
    "\n",
    "或者\n",
    "\n",
    "```sh\n",
    "pip install matplotlib\n",
    "```"
   ]
  },
  {
   "cell_type": "markdown",
   "metadata": {},
   "source": [
    "## matplotlib 架构\n",
    "matplotlib 的主要任务之一，就是提供一套表示和操作图形对象（主要对象）以及它的内部对象的函数和工具。其不仅可以处理图形，还提供事件处理工具，具有为图形添加动画效果的能力。有了这些附加功能，matplotlib 就能生成以键盘按键或鼠标移动触发的事件的交互式图表。\n",
    "\n",
    "从逻辑上来讲，matplotlib 的整体架构为3层，各层之间单向通信：\n",
    "\n",
    "-   Scripting （脚本）层\n",
    "-   Artist （表现）层\n",
    "-   Backend （后端）层\n",
    "\n",
    "**matplotlib 3层架构**\n",
    "\n",
    "![img](matplotlib-architecture.png)\n",
    "\n",
    "### Backend 层\n",
    "\n",
    "matplotlib API 即位于该层，这些 API 是用来在底层实现图形元素的一个个类。\n",
    "\n",
    "-   FigureCanvas 对象实现了绘图区域这一概念。\n",
    "-   Renderer 对象在 FigureCanvas 上绘图。\n",
    "-   Event 对象处理用户输入（键盘和鼠标事件）。\n",
    "\n",
    "使用 matplotlib 有很多种展示图形的方法。可以使用 IPython ，在命令行界面下，输入绘图命令，弹出绘图窗口，这是交互式展示形式；在 Jupyter QtConsole 窗口以行内形式显示图像；使用 Jupyter Notebook 绘制行内图形，实现高效数据分析；将 matplotlib 内嵌到 GUI 里构建应用程序等。\n",
    "\n",
    "后端主要有两种类型：一种是交互式后端，主要有 Qt 、TkInter 、GTK 等；另一种是非交互式后端，主要包括 PNG 、SVG 、PDF 和 PS 等。\n",
    "\n",
    "关于后端的介绍可参考[官方文档](https://matplotlib.org/3.2.1/tutorials/introductory/usage.html#the-builtin-backends)。\n",
    "\n",
    "\n",
    "### Artist 层\n",
    "\n",
    "图形中所有能看到的元素都属于 Artist 对象，即标题、轴标签、刻度等组成图形的所有元素都是 Artist 对象的实例。\n",
    "\n",
    "Artist 类分为两种：原始（primitive）和复合（composite）。\n",
    "\n",
    "绘制 Line2D 或矩形、圆形等几何图形，甚至文本等图形时，形成图形表示的基础元素由 primitive artist 单个对象组成。\n",
    "\n",
    "由多个基础元素——primitive artist——组成的图表中的图像元素叫做 composite artist，例如 Axis（单条轴）、Ticks（刻度）、Axes（轴）和 Figure（图形）。\n",
    "\n",
    "**matplotlib 图表组成元素**\n",
    "\n",
    "![img](matplotlib_anatomy.png)\n",
    "\n",
    "\n",
    "### Scripting层（pyplot）\n",
    "\n",
    "Scripting 层对于数据分析和可视化最合适，该层包含 pyplot 接口。\n",
    "\n",
    "两种接口方式：\n",
    "\n",
    "-   显示地创建图表和轴等对象，通过对象调用方法（面向对象方式）\n",
    "-   依靠 pyplot 自动地创建和管理图表和轴等对象，使用 pyplot 函数绘图\n",
    "\n",
    "面向对象方式示例："
   ]
  },
  {
   "cell_type": "code",
   "execution_count": null,
   "metadata": {},
   "outputs": [],
   "source": [
    "import matplotlib.pyplot as plt\n",
    "import numpy as np\n",
    "\n",
    "x = np.linspace(0, 2, 100)\n",
    "\n",
    "fig, ax = plt.subplots()\n",
    "ax.plot(x, x, label='linear')\n",
    "ax.plot(x, x**2, label='quadratic')\n",
    "ax.plot(x, x**3, label='cubic')\n",
    "ax.set_xlabel('x label')\n",
    "ax.set_ylabel('y label')\n",
    "ax.set_title(\"Simple Plot\")\n",
    "ax.legend()"
   ]
  },
  {
   "cell_type": "markdown",
   "metadata": {},
   "source": [
    "pyplot 方式示例："
   ]
  },
  {
   "cell_type": "code",
   "execution_count": null,
   "metadata": {},
   "outputs": [],
   "source": [
    "x = np.linspace(0, 2, 100)\n",
    "\n",
    "plt.plot(x, x, label='linear')\n",
    "plt.plot(x, x**2, label='quadratic')\n",
    "plt.plot(x, x**3, label='cubic')\n",
    "plt.xlabel('x label')\n",
    "plt.ylabel('y label')\n",
    "plt.title(\"Simple Plot\")\n",
    "plt.legend()"
   ]
  },
  {
   "cell_type": "markdown",
   "metadata": {},
   "source": [
    "## pyplot\n",
    "\n",
    "由一组命令式函数组成，通过 pyplot 函数操作或改动 Figure 对象，例如创建 Figure 对象和绘图区域、表示一条线或为图形添加标签等。\n",
    "\n",
    "pyplot 还具有状态性特性，它能跟踪当前图形和绘图区域的状态。调用函数时，函数只对当前图形起作用。\n"
   ]
  },
  {
   "cell_type": "markdown",
   "metadata": {},
   "source": [
    "### 简单交互式图表"
   ]
  },
  {
   "cell_type": "code",
   "execution_count": null,
   "metadata": {},
   "outputs": [],
   "source": [
    "plt.plot([1, 2, 3, 4])  # Line2D 对象"
   ]
  },
  {
   "cell_type": "code",
   "execution_count": null,
   "metadata": {},
   "outputs": [],
   "source": [
    "plt.plot([1,2,3,4], [1,4,9,16], 'ro') # red circles\n",
    "plt.axis([0,5,0,20])  # 定义轴的取值范围 [xmin, xmax, ymin, ymax]\n",
    "plt.title('My first plot')\n",
    "plt.plot([1,2,3,4], [1,4,9,16], 'ro')"
   ]
  },
  {
   "cell_type": "markdown",
   "metadata": {},
   "source": [
    "### 格式化字符串\n",
    "\n",
    "格式化字符串包含 color 、marker 和 line 三部分：\n",
    "\n",
    "```python\n",
    "fmt = '[marker][line][color]'\n",
    "```\n",
    "\n",
    "每一个部分都是可选的。\n",
    "\n",
    "**Markers**\n",
    "\n",
    "| 字符       | 描述                   |\n",
    "|------------|------------------------|\n",
    "| `'.'`      | point marker           |\n",
    "| `','`      | pixel marker           |\n",
    "| `'o'`      | circle marker          |\n",
    "| `'v'`      | triangle\\_down marker  |\n",
    "| `'^'`      | triangle\\_up marker    |\n",
    "| `'<'`      | triangle\\_left marker  |\n",
    "| `'>'`      | triangle\\_right marker |\n",
    "| `'1'`      | tri\\_down marker       |\n",
    "| `'2'`      | tri\\_up marker         |\n",
    "| `'3'`      | tri\\_left marker       |\n",
    "| `'4'`      | tri\\_right marker      |\n",
    "| `'s'`      | square marker          |\n",
    "| `'p'`      | pentagon marker        |\n",
    "| `'*'`      | star marker            |\n",
    "| `'h'`      | hexagon1 marker        |\n",
    "| `'H'`      | hexagon2 marker        |\n",
    "| `'+'`      | plus marker            |\n",
    "| `'x'`      | x marker               |\n",
    "| `'D'`      | diamond marker         |\n",
    "| `'d'`      | thin\\_diamond marker   |\n",
    "| `'&vert;'` | vline marker           |\n",
    "| `'_'`      | hline marker           |\n",
    "\n",
    "**Line 风格**\n",
    "\n",
    "| 字符   | 描述                |\n",
    "|--------|---------------------|\n",
    "| `'-'`  | solid line style    |\n",
    "| `'--'` | dashed line style   |\n",
    "| `'-.'` | dash-dot line style |\n",
    "| `':'`  | dotted line style   |\n",
    "\n",
    "**Color**\n",
    "\n",
    "| 字符  | 颜色    |\n",
    "|-------|---------|\n",
    "| `'b'` | blue    |\n",
    "| `'g'` | green   |\n",
    "| `'r'` | red     |\n",
    "| `'c'` | cyan    |\n",
    "| `'m'` | magenta |\n",
    "| `'y'` | yellow  |\n",
    "| `'k'` | black   |\n",
    "| `'w'` | white   |"
   ]
  },
  {
   "cell_type": "markdown",
   "metadata": {},
   "source": [
    "### 使用 NumPy\n",
    "\n",
    "可以直接把 NumPy 数组作为输入数据。"
   ]
  },
  {
   "cell_type": "code",
   "execution_count": 3,
   "metadata": {},
   "outputs": [
    {
     "ename": "ModuleNotFoundError",
     "evalue": "No module named 'matplotlib.pyplob'",
     "output_type": "error",
     "traceback": [
      "\u001b[0;31m---------------------------------------------------------------------------\u001b[0m",
      "\u001b[0;31mModuleNotFoundError\u001b[0m                       Traceback (most recent call last)",
      "\u001b[0;32m<ipython-input-3-b649e295de70>\u001b[0m in \u001b[0;36m<module>\u001b[0;34m\u001b[0m\n\u001b[1;32m      1\u001b[0m \u001b[0;32mimport\u001b[0m \u001b[0mmath\u001b[0m\u001b[0;34m\u001b[0m\u001b[0;34m\u001b[0m\u001b[0m\n\u001b[1;32m      2\u001b[0m \u001b[0;32mimport\u001b[0m \u001b[0mnumpy\u001b[0m \u001b[0;32mas\u001b[0m \u001b[0mnp\u001b[0m\u001b[0;34m\u001b[0m\u001b[0;34m\u001b[0m\u001b[0m\n\u001b[0;32m----> 3\u001b[0;31m \u001b[0;32mimport\u001b[0m \u001b[0mmatplotlib\u001b[0m\u001b[0;34m.\u001b[0m\u001b[0mpyplob\u001b[0m \u001b[0;32mas\u001b[0m \u001b[0mplt\u001b[0m\u001b[0;34m\u001b[0m\u001b[0;34m\u001b[0m\u001b[0m\n\u001b[0m\u001b[1;32m      4\u001b[0m \u001b[0;34m\u001b[0m\u001b[0m\n\u001b[1;32m      5\u001b[0m \u001b[0mt\u001b[0m \u001b[0;34m=\u001b[0m \u001b[0mnp\u001b[0m\u001b[0;34m.\u001b[0m\u001b[0marange\u001b[0m\u001b[0;34m(\u001b[0m\u001b[0;36m0\u001b[0m\u001b[0;34m,\u001b[0m \u001b[0;36m2.5\u001b[0m\u001b[0;34m,\u001b[0m \u001b[0;36m0.1\u001b[0m\u001b[0;34m)\u001b[0m\u001b[0;34m\u001b[0m\u001b[0;34m\u001b[0m\u001b[0m\n",
      "\u001b[0;31mModuleNotFoundError\u001b[0m: No module named 'matplotlib.pyplob'"
     ]
    }
   ],
   "source": [
    "import math\n",
    "import numpy as np\n",
    "\n",
    "t = np.arange(0, 2.5, 0.1)\n",
    "y1 = list(map(math.sin, math.pi * t))\n",
    "y2 = list(map(math.sin, math.pi * t + math.pi / 2))\n",
    "y3 = list(map(math.sin, math.pi * t - math.pi / 2))\n",
    "\n",
    "plt.plot(t, y1, 'b*',\n",
    "         t, y2, 'g^',\n",
    "         t, y3, 'ys')"
   ]
  },
  {
   "cell_type": "code",
   "execution_count": null,
   "metadata": {},
   "outputs": [],
   "source": [
    "plt.plot(t, y1, 'b--',\n",
    "         t, y2, 'g',\n",
    "         t, y3, 'r-.')"
   ]
  },
  {
   "cell_type": "markdown",
   "metadata": {},
   "source": [
    "### 使用 `kwargs`\n",
    "\n",
    "组成图表的各个对象由很多用以描述它们特点的属性。这些属性均有默认值，但可以用关键字参数设置。\n",
    "\n",
    "在 matplotlib 库各个函数的参考文档中，每个函数的最后一个参数总是<code>kwargs</code>。例如：\n",
    "\n",
    "```\n",
    "matplotlib.pyplot.plot(*args, **kwargs)\n",
    "```\n",
    "\n",
    "下面的例子，设置 linewidth 关键字参数，改变线条的粗细。"
   ]
  },
  {
   "cell_type": "code",
   "execution_count": null,
   "metadata": {},
   "outputs": [],
   "source": [
    "plt.plot([1,2,4,2,1,0,1,2,1,4], linewidth=2.0)"
   ]
  },
  {
   "cell_type": "markdown",
   "metadata": {},
   "source": [
    "### 处理多个Figure和Axes对象\n",
    "\n",
    "用 matplotlib 同时管理多个图形，而在每个图形中，又可以绘制几个不同的子图。\n",
    "\n",
    "使用 pyplot 时，必须时刻注意当前 Figure 对象和当前 Axes 对象的概念（即 Figure 对象中当前所显示的图形）。\n",
    "\n",
    "<code>subplot()</code>函数不仅可以将图形分为不同的绘图区域，还能激活特定子图，以便用命令控制它。其用参数设置分区模式和当前子图。只有当前子图受到命令的影响。\n",
    "\n",
    "下面的示例绘制两种正弦趋势图（正弦和余弦），将画布划分为上下两个向水平方向延伸的子图。\n"
   ]
  },
  {
   "cell_type": "code",
   "execution_count": null,
   "metadata": {},
   "outputs": [],
   "source": [
    "t = np.arange(0, 5, 0.1)\n",
    "y1 = np.cos(2 * np.pi * t)\n",
    "y2 = np.sin(2 * np.pi * t)\n",
    "plt.subplot(211)\n",
    "plt.plot(t, y1, 'b-.')\n",
    "plt.subplot(212)\n",
    "plt.plot(t, y2, 'r--')"
   ]
  },
  {
   "cell_type": "markdown",
   "metadata": {},
   "source": [
    "将图形分为左右两个子图。"
   ]
  },
  {
   "cell_type": "code",
   "execution_count": null,
   "metadata": {},
   "outputs": [],
   "source": [
    "t = np.arange(0., 1., 0.05)\n",
    "y1 = np.sin(2 * np.pi * t)\n",
    "y2 = np.cos(2 * np.pi * t)\n",
    "plt.subplot(121)\n",
    "plt.plot(t, y1, 'b-.')\n",
    "plt.subplot(122)\n",
    "plt.plot(t, y2, 'r--')"
   ]
  },
  {
   "cell_type": "markdown",
   "metadata": {},
   "source": [
    "### 为图表添加更多元素\n",
    "\n",
    "#### 文本\n",
    "\n",
    "-   使用<code>title()</code>函数添加标题\n",
    "-   <code>xlabel()</code>和<code>ylabel()</code>用于添加轴标签，将要显示的文本以字符串形式传入\n",
    "\n",
    "<code>text()</code>函数支持在图表任意位置添加文本：<code>text(x,y,s, fontdict=None, **kwargs)</code>。"
   ]
  },
  {
   "cell_type": "code",
   "execution_count": null,
   "metadata": {},
   "outputs": [],
   "source": [
    "plt.axis([0,5,0,20])\n",
    "plt.title('My first plot', fontsize=20, fontname='Times New Roman')\n",
    "plt.xlabel('Counting', color='gray')\n",
    "plt.ylabel('Square values', color='gray')\n",
    "plt.text(1, 1.5,'First')\n",
    "plt.text(2, 4.5,'Second')\n",
    "plt.text(3, 9.5,'Third')\n",
    "plt.text(4, 16.5,'Fourth')\n",
    "plt.text(1.1, 12, r'$y = x^2$', fontsize=20, fontname='DejaVu Sans',\n",
    "         bbox={'facecolor': 'yellow', 'alpha': 0.2})\n",
    "plt.plot([1,2,3,4], [1,4,9,16], 'ro')"
   ]
  },
  {
   "cell_type": "markdown",
   "metadata": {},
   "source": [
    "#### 网格\n",
    "添加网格能更好地理解图表每个数据点的位置。\n",
    "\n",
    "直接在代码中加入<code>grid()</code>函数，传入参数<code>True</code>。"
   ]
  },
  {
   "cell_type": "code",
   "execution_count": null,
   "metadata": {},
   "outputs": [],
   "source": [
    "plt.axis([0, 5, 0, 20])\n",
    "plt.title('My first plot', fontsize=20, fontname='Times New Roman')\n",
    "plt.xlabel('Counting', color='gray')\n",
    "plt.ylabel('Square values', color='gray')\n",
    "plt.text(1, 1.5,'First')\n",
    "plt.text(2, 4.5,'Second')\n",
    "plt.text(3, 9.5,'Third')\n",
    "plt.text(4, 16.5,'Fourth')\n",
    "plt.text(1.1, 12, r'$y = x^2$', fontsize=20,\n",
    "         bbox={'facecolor': 'yellow', 'alpha': 0.2})\n",
    "plt.grid(True) # 直接在图片中显示网格\n",
    "plt.plot([1,2,3,4], [1,4,9,16], 'ro')"
   ]
  },
  {
   "cell_type": "markdown",
   "metadata": {},
   "source": [
    "#### 图例\n",
    "使用<code>legend()</code>函数将图例和字符串类型的图例说明添加到图表中。\n"
   ]
  },
  {
   "cell_type": "code",
   "execution_count": null,
   "metadata": {},
   "outputs": [],
   "source": [
    "plt.axis([0,5,0,20])\n",
    "plt.title('My first plot', fontsize=20, fontname='Times New Roman')\n",
    "plt.xlabel('Counting', color='gray')\n",
    "plt.ylabel('Square values', color='gray')\n",
    "plt.text(1,1.5,'First')\n",
    "plt.text(2,4.5,'Second')\n",
    "plt.text(3,9.5,'Third')\n",
    "plt.text(4,16.5,'Fourth')\n",
    "plt.text(1.1,12,r'$y = x^2$', fontsize=20,\n",
    "         bbox={'facecolor': 'yellow', 'alpha': 0.2})\n",
    "plt.grid(True)\n",
    "plt.plot([1,2,3,4],[1,4,9,16],'ro')\n",
    "plt.legend(['First series'], loc=2)"
   ]
  },
  {
   "cell_type": "markdown",
   "metadata": {},
   "source": [
    "**`loc` 参数可选设置**\n",
    "\n",
    "| 位置字符串     | 位置编号 | 位置表述     |\n",
    "|----------------|----------|--------------|\n",
    "| 'best'         | 0        | 最佳位置     |\n",
    "| 'upper right'  | 1        | 右上角       |\n",
    "| 'upper left'   | 2        | 左上角       |\n",
    "| 'lower left'   | 3        | 左下角       |\n",
    "| 'lower right'  | 4        | 右下角       |\n",
    "| 'right'        | 5        | 右侧         |\n",
    "| 'center left'  | 6        | 左侧垂直居中 |\n",
    "| 'center right' | 7        | 右侧垂直居中 |\n",
    "| 'lower center' | 8        | 下方水平居中 |\n",
    "| 'upper center' | 9        | 上方水平居中 |\n",
    "| 'center'       | 10       | 正中间       |\n",
    "\n",
    "注：5 和 7 表示的位置相同。"
   ]
  },
  {
   "cell_type": "markdown",
   "metadata": {},
   "source": [
    "多个序列："
   ]
  },
  {
   "cell_type": "code",
   "execution_count": null,
   "metadata": {},
   "outputs": [],
   "source": [
    "plt.axis([0,5,0,20])\n",
    "plt.title('My first plot', fontsize=20, fontname='Times New Roman')\n",
    "plt.xlabel('Counting', color='gray')\n",
    "plt.ylabel('Square values', color='gray')\n",
    "plt.text(1,1.5,'First')\n",
    "plt.text(2,4.5,'Second')\n",
    "plt.text(3,9.5,'Third')\n",
    "plt.text(4,16.5,'Fourth')\n",
    "plt.text(1.1,12,r'$y = x^2$', fontsize=20,\n",
    "         bbox={'facecolor': 'yellow', 'alpha': 0.2})\n",
    "plt.grid(True)\n",
    "plt.plot([1,2,3,4],[1,4,9,16],'ro')\n",
    "plt.plot([1,2,3,4],[0.8,3.5,8,15],'g^')\n",
    "plt.plot([1,2,3,4],[0.5,2.5,4,12],'b*')\n",
    "plt.legend(['First series', 'Second series', 'Third series'], loc=2)"
   ]
  },
  {
   "cell_type": "markdown",
   "metadata": {},
   "source": [
    "### 保存图表为图片\n",
    "使用<code>plt.savefig()</code>保存图表为图片，此函数接受一个字符串参数作为文件名。\n",
    "\n",
    "注意：保存成图像的命令之前不要使用<code>plt.show()</code>，否则将得到空白图像。"
   ]
  },
  {
   "cell_type": "markdown",
   "metadata": {},
   "source": [
    "### 处理日期值"
   ]
  },
  {
   "cell_type": "code",
   "execution_count": null,
   "metadata": {},
   "outputs": [],
   "source": [
    "import datetime\n",
    "import numpy as np\n",
    "import matplotlib.pyplot as plt\n",
    "import matplotlib.dates as mdates\n",
    "\n",
    "months = mdates.MonthLocator()\n",
    "days = mdates.DayLocator()\n",
    "timefmt = mdates.DateFormatter('%Y-%m')\n",
    "events = [\n",
    "    datetime.date(2015,1,23),\n",
    "    datetime.date(2015,1,28),\n",
    "    datetime.date(2015,2,3),\n",
    "    datetime.date(2015,2,21),\n",
    "    datetime.date(2015,3,15),\n",
    "    datetime.date(2015,3,24),\n",
    "    datetime.date(2015,4,8),\n",
    "    datetime.date(2015,4,24)\n",
    "]\n",
    "readings = [12,22,25,20,18,15,17,14]\n",
    "fig, ax = plt.subplots() #获取轴的对象\n",
    "plt.plot(events, readings)\n",
    "ax.xaxis.set_major_locator(months)\n",
    "ax.xaxis.set_major_formatter(timefmt)\n",
    "ax.xaxis.set_minor_locator(days)"
   ]
  },
  {
   "cell_type": "markdown",
   "metadata": {},
   "source": [
    "## 线性图\n",
    "绘制由数学函数生成的数据点，例如：\n",
    "\n",
    "\\begin{equation}\n",
    "y = \\frac{\\sin(3 * x)}{x}  \\nonumber\n",
    "\\end{equation}\n"
   ]
  },
  {
   "cell_type": "code",
   "execution_count": null,
   "metadata": {},
   "outputs": [],
   "source": [
    "import matplotlib.pyplot as plt\n",
    "import numpy as np\n",
    "x = np.arange(-2 * np.pi, 2 * np.pi, 0.01)\n",
    "y = np.sin(3 * x) / x\n",
    "plt.plot(x, y)"
   ]
  },
  {
   "cell_type": "markdown",
   "metadata": {},
   "source": [
    "### 显示一组函数的图像\n",
    "\n",
    "\\begin{equation}\n",
    "y = \\frac{\\sin(n* x)}{x}   \\nonumber\n",
    "\\end{equation}"
   ]
  },
  {
   "cell_type": "code",
   "execution_count": null,
   "metadata": {},
   "outputs": [],
   "source": [
    "x = np.arange(-2 * np.pi, 2 * np.pi, 0.01)\n",
    "y = np.sin(3 * x) / x\n",
    "y2 = np.sin(2 * x) / x\n",
    "y3 = np.sin(4 * x) / x\n",
    "plt.plot(x, y)\n",
    "plt.plot(x, y2)\n",
    "plt.plot(x, y3)"
   ]
  },
  {
   "cell_type": "markdown",
   "metadata": {},
   "source": [
    "matplotlib 会自动为每条线分配一种不同的颜色。\n",
    "通过<code>plot()</code>函数的第三个参数指定线型、颜色，把这些设置所用的字符编码放到同一个字符串即可。\n",
    "\n",
    "还可以使用两个单独的关键字参数，用<code>color</code>指定颜色，用<code>linestyle</code>指定线型。"
   ]
  },
  {
   "cell_type": "code",
   "execution_count": null,
   "metadata": {},
   "outputs": [],
   "source": [
    "x = np.arange(-2 * np.pi, 2 * np.pi, 0.01)\n",
    "y = np.sin(3 * x) / x\n",
    "y2 = np.sin(2 * x) / x\n",
    "y3 = np.sin(4 * x) / x\n",
    "plt.plot(x, y, 'k--', linewidth=3)\n",
    "plt.plot(x, y2, 'c-.')\n",
    "plt.plot(x, y3, color='#87a3cc', linestyle='--')"
   ]
  },
  {
   "cell_type": "markdown",
   "metadata": {},
   "source": [
    "### 轴标签及刻度\n",
    "\n",
    "使用<code>xticks()</code>和<code>yticks()</code>函数替换轴标签，分别为每个函数传入两列数值。第一个列表存储刻度的位置，第二个列表存储刻度的标签。"
   ]
  },
  {
   "cell_type": "code",
   "execution_count": null,
   "metadata": {},
   "outputs": [],
   "source": [
    "x = np.arange(-2 * np.pi, 2 * np.pi, 0.01)\n",
    "y = np.sin(3 * x) / x\n",
    "y2 = np.sin(2 * x) / x\n",
    "y3 = np.sin(x) / x\n",
    "plt.plot(x, y, 'b')\n",
    "plt.plot(x, y2, 'r')\n",
    "plt.plot(x, y3, 'g')\n",
    "plt.xticks([-2 * np.pi, -np.pi, 0, np.pi, 2 * np.pi],\n",
    "           [r'$-2\\pi$', r'$-\\pi$', r'$0$', r'$+\\pi$', r'$+2\\pi$'])\n",
    "plt.yticks([-1., 0, +1, +2, +3],\n",
    "           [r'$-1$', r'$0$', r'$+1$', r'$+2$', r'$+3$'])"
   ]
  },
  {
   "cell_type": "markdown",
   "metadata": {},
   "source": [
    "### 笛卡尔坐标轴"
   ]
  },
  {
   "cell_type": "code",
   "execution_count": null,
   "metadata": {},
   "outputs": [],
   "source": [
    "x = np.arange(-2 * np.pi, 2 * np.pi, 0.01)\n",
    "y = np.sin(3 * x) / x\n",
    "y2 = np.sin(2 * x) / x\n",
    "y3 = np.sin(x) / x\n",
    "plt.plot(x, y, 'b')\n",
    "plt.plot(x, y2, 'r')\n",
    "plt.plot(x, y3, 'g')\n",
    "plt.xticks([-2 * np.pi, -np.pi, 0, np.pi, 2 * np.pi],\n",
    "           [r'$-2\\pi$', r'$-\\pi$', r'$0$', r'$+\\pi$', r'$+2\\pi$'])\n",
    "plt.yticks([-1., 0, +1, +2, +3],\n",
    "           [r'$-1$', r'$0$', r'$+1$', r'$+2$', r'$+3$'])\n",
    "ax = plt.gca()\n",
    "ax.spines['right'].set_color('none')\n",
    "ax.spines['top'].set_color('none')\n",
    "ax.xaxis.set_ticks_position('bottom')\n",
    "ax.spines['bottom'].set_position(('data', 0))\n",
    "ax.yaxis.set_ticks_position('left')\n",
    "ax.spines['left'].set_position(('data', 0))"
   ]
  },
  {
   "cell_type": "markdown",
   "metadata": {},
   "source": [
    "### 用注释和箭头标明曲线上某一数据点的位置\n",
    "\n",
    "<code>annotate()</code>函数适合用于添加注释。"
   ]
  },
  {
   "cell_type": "code",
   "execution_count": null,
   "metadata": {},
   "outputs": [],
   "source": [
    "x = np.arange(-2 * np.pi, 2 * np.pi, 0.01)\n",
    "y = np.sin(3 * x) / x\n",
    "y2 = np.sin(2 * x) / x\n",
    "y3 = np.sin(x) / x\n",
    "plt.plot(x, y, 'b')\n",
    "plt.plot(x, y2, 'r')\n",
    "plt.plot(x, y3, 'g')\n",
    "plt.xticks([-2 * np.pi, -np.pi, 0, np.pi, 2 * np.pi],\n",
    "           [r'$-2\\pi$', r'$-\\pi$', r'$0$', r'$+\\pi$', r'$+2\\pi$'])\n",
    "plt.yticks([-1., 0, +1, +2, +3],\n",
    "           [r'$-1$', r'$0$', r'$+1$', r'$+2$', r'$+3$'])\n",
    "plt.annotate(r'$\\lim_{x\\to 0}\\frac{\\sin(x)}{x} = 1$', xy=[0,1],\n",
    "             xycoords='data', xytext=[30,30], fontsize=16, textcoords='offset points',\n",
    "             arrowprops=dict(arrowstyle='->', connectionstyle='arc3,rad=.2'))\n",
    "\n",
    "ax = plt.gca()\n",
    "ax.spines['right'].set_color('none')\n",
    "ax.spines['top'].set_color('none')\n",
    "ax.xaxis.set_ticks_position('bottom')\n",
    "ax.spines['bottom'].set_position(('data', 0))\n",
    "ax.yaxis.set_ticks_position('left')\n",
    "ax.spines['left'].set_position(('data', 0))"
   ]
  },
  {
   "cell_type": "markdown",
   "metadata": {},
   "source": [
    "## 直方图\n",
    "直方图由竖立在 x 轴上的多个相邻的矩形组成。这些矩形把 x 轴拆分成一段段彼此不重叠的线段（线段两个端点所标识的数据范围也叫面元），矩形的面积跟落在其所对应的面元的元素数量成正比。这种可视化方法常用于样本分布等统计研究。\n",
    "\n",
    "pyplot 用于绘制直方图的函数为<code>hist()</code>，它除了绘制直方图外，还以元组形式返回直方图的计算结果。实际上，<code>hist()</code>函数还可以实现直方图的计算。其能接收一系列样本个体和期望的面元数量作为参数，会把样本范围分为多个区间（面元），然后计算每个面元所包含的样本个体的数量。\n",
    "\n"
   ]
  },
  {
   "cell_type": "code",
   "execution_count": 5,
   "metadata": {},
   "outputs": [
    {
     "name": "stdout",
     "output_type": "stream",
     "text": [
      "box height: [7 1 2 4 7 4 4 2 9 2 9 7 8 2 8 2 7 3 6 3 3 1 7 3 4 8 6 8 4 9 1 5 1 1 0 0 2\n",
      " 9 6 1 2 7 2 6 1 7 5 6 1 8 1 3 1 2 0 8 0 3 6 7 4 0 1 5 1 8 1 5 4 1 9 6 9 5\n",
      " 9 8 9 2 9 5 1 5 0 4 5 9 0 1 2 5 6 6 7 8 0 0 8 5 9 4]\n",
      "n: [ 9. 16. 11.  6.  9. 10.  9.  9. 10. 11.] \n",
      "bins: [ 0  1  2  3  4  5  6  7  8  9 10] \n",
      "patches: <a list of 10 Patch objects>\n"
     ]
    },
    {
     "data": {
      "image/png": "[encoded data removed]",
      "text/plain": [
       "<Figure size 432x288 with 1 Axes>"
      ]
     },
     "metadata": {
      "needs_background": "light"
     },
     "output_type": "display_data"
    }
   ],
   "source": [
    "import matplotlib as mpl\n",
    "\n",
    "mpl.rcParams['font.sans-serif'] = ['Songti SC']  # SimHei\n",
    "\n",
    "box_weight = np.random.randint(0, 10, 100)  # 生成100个 0-10 的随机数作为样本\n",
    "\n",
    "print('box height:', box_weight)\n",
    "n, bins, patches = plt.hist(box_weight, bins=range(0, 11, 1),\n",
    "                            color='g',\n",
    "                            histtype='bar',\n",
    "                            rwidth=1,\n",
    "                            alpha=0.6)\n",
    "plt.xlabel('箱子重量（kg）')\n",
    "plt.ylabel('销售数量（个）')\n",
    "print('n:', n, '\\nbins:', bins, '\\npatches:', patches)"
   ]
  },
  {
   "cell_type": "markdown",
   "metadata": {},
   "source": [
    "## 条状图\n",
    "\n",
    "跟直方图很相似，但是 $x$ 轴表示的不是数值而是类别。\n"
   ]
  },
  {
   "cell_type": "code",
   "execution_count": 4,
   "metadata": {},
   "outputs": [
    {
     "data": {
      "text/plain": [
       "([<matplotlib.axis.XTick at 0x7fe1d959eb50>,\n",
       "  <matplotlib.axis.XTick at 0x7fe1d99da110>,\n",
       "  <matplotlib.axis.XTick at 0x7fe1d998ef50>,\n",
       "  <matplotlib.axis.XTick at 0x7fe1d9a2b450>,\n",
       "  <matplotlib.axis.XTick at 0x7fe1d9a2bfd0>],\n",
       " <a list of 5 Text xticklabel objects>)"
      ]
     },
     "execution_count": 4,
     "metadata": {},
     "output_type": "execute_result"
    },
    {
     "data": {
      "image/png": "[encoded data removed]",
      "text/plain": [
       "<Figure size 432x288 with 1 Axes>"
      ]
     },
     "metadata": {
      "needs_background": "light"
     },
     "output_type": "display_data"
    }
   ],
   "source": [
    "import matplotlib.pyplot as plt\n",
    "import numpy as np\n",
    "\n",
    "index = np.arange(5)\n",
    "values = [5,7,3,4,6]\n",
    "plt.bar(index, values)\n",
    "plt.xticks(index, ['A', 'B', 'C', 'D', 'E'])"
   ]
  },
  {
   "cell_type": "code",
   "execution_count": null,
   "metadata": {},
   "outputs": [],
   "source": []
  }
 ],
 "metadata": {
  "kernelspec": {
   "display_name": "Python 3",
   "language": "python",
   "name": "python3"
  },
  "language_info": {
   "codemirror_mode": {
    "name": "ipython",
    "version": 3
   },
   "file_extension": ".py",
   "mimetype": "text/x-python",
   "name": "python",
   "nbconvert_exporter": "python",
   "pygments_lexer": "ipython3",
   "version": "3.7.6"
  },
  "name": "15_matplotlib.ipynb",
  "toc": {
   "colors": {
    "hover_highlight": "#DAA520",
    "running_highlight": "#FF0000",
    "selected_highlight": "#FFD700"
   },
   "moveMenuLeft": true,
   "nav_menu": {
    "height": "466.534px",
    "width": "251.989px"
   },
   "navigate_menu": true,
   "number_sections": false,
   "sideBar": true,
   "threshold": 4,
   "toc_cell": false,
   "toc_section_display": "block",
   "toc_window_display": false,
   "widenNotebook": false
  }
 },
 "nbformat": 4,
 "nbformat_minor": 4
}
